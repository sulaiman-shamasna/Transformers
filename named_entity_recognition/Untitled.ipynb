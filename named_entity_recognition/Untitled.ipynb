{
 "cells": [
  {
   "cell_type": "code",
   "execution_count": null,
   "id": "aa388130-11ab-46b6-940d-627ee00697b5",
   "metadata": {},
   "outputs": [],
   "source": []
  },
  {
   "cell_type": "code",
   "execution_count": null,
   "id": "5320efda-76b1-47ac-bbef-edd67bc85232",
   "metadata": {},
   "outputs": [],
   "source": []
  },
  {
   "cell_type": "markdown",
   "id": "6a7771dc-bc79-4a44-9afc-1123018802c9",
   "metadata": {},
   "source": [
    "# The Dataset"
   ]
  },
  {
   "cell_type": "code",
   "execution_count": 2,
   "id": "bc50e025-ba44-4e76-ba92-2725a2a0fd9d",
   "metadata": {},
   "outputs": [
    {
     "name": "stdout",
     "output_type": "stream",
     "text": [
      "Requirement already satisfied: datasets in c:\\users\\sulai\\documents\\gh-projects\\transformers\\named_entity_recognition\\env\\lib\\site-packages (2.20.0)\n",
      "Requirement already satisfied: filelock in c:\\users\\sulai\\documents\\gh-projects\\transformers\\named_entity_recognition\\env\\lib\\site-packages (from datasets) (3.15.1)\n",
      "Requirement already satisfied: multiprocess in c:\\users\\sulai\\documents\\gh-projects\\transformers\\named_entity_recognition\\env\\lib\\site-packages (from datasets) (0.70.16)\n",
      "Requirement already satisfied: packaging in c:\\users\\sulai\\documents\\gh-projects\\transformers\\named_entity_recognition\\env\\lib\\site-packages (from datasets) (24.1)\n",
      "Requirement already satisfied: pandas in c:\\users\\sulai\\documents\\gh-projects\\transformers\\named_entity_recognition\\env\\lib\\site-packages (from datasets) (2.2.2)\n",
      "Requirement already satisfied: requests>=2.32.2 in c:\\users\\sulai\\documents\\gh-projects\\transformers\\named_entity_recognition\\env\\lib\\site-packages (from datasets) (2.32.3)\n",
      "Requirement already satisfied: pyarrow>=15.0.0 in c:\\users\\sulai\\documents\\gh-projects\\transformers\\named_entity_recognition\\env\\lib\\site-packages (from datasets) (16.1.0)\n",
      "Requirement already satisfied: fsspec[http]<=2024.5.0,>=2023.1.0 in c:\\users\\sulai\\documents\\gh-projects\\transformers\\named_entity_recognition\\env\\lib\\site-packages (from datasets) (2024.5.0)\n",
      "Requirement already satisfied: aiohttp in c:\\users\\sulai\\documents\\gh-projects\\transformers\\named_entity_recognition\\env\\lib\\site-packages (from datasets) (3.9.5)\n",
      "Requirement already satisfied: pyyaml>=5.1 in c:\\users\\sulai\\documents\\gh-projects\\transformers\\named_entity_recognition\\env\\lib\\site-packages (from datasets) (6.0.1)\n",
      "Requirement already satisfied: tqdm>=4.66.3 in c:\\users\\sulai\\documents\\gh-projects\\transformers\\named_entity_recognition\\env\\lib\\site-packages (from datasets) (4.66.4)\n",
      "Requirement already satisfied: dill<0.3.9,>=0.3.0 in c:\\users\\sulai\\documents\\gh-projects\\transformers\\named_entity_recognition\\env\\lib\\site-packages (from datasets) (0.3.8)\n",
      "Requirement already satisfied: numpy>=1.17 in c:\\users\\sulai\\documents\\gh-projects\\transformers\\named_entity_recognition\\env\\lib\\site-packages (from datasets) (1.26.4)\n",
      "Requirement already satisfied: huggingface-hub>=0.21.2 in c:\\users\\sulai\\documents\\gh-projects\\transformers\\named_entity_recognition\\env\\lib\\site-packages (from datasets) (0.23.4)\n",
      "Requirement already satisfied: pyarrow-hotfix in c:\\users\\sulai\\documents\\gh-projects\\transformers\\named_entity_recognition\\env\\lib\\site-packages (from datasets) (0.6)\n",
      "Requirement already satisfied: xxhash in c:\\users\\sulai\\documents\\gh-projects\\transformers\\named_entity_recognition\\env\\lib\\site-packages (from datasets) (3.4.1)\n",
      "Requirement already satisfied: frozenlist>=1.1.1 in c:\\users\\sulai\\documents\\gh-projects\\transformers\\named_entity_recognition\\env\\lib\\site-packages (from aiohttp->datasets) (1.4.1)\n",
      "Requirement already satisfied: multidict<7.0,>=4.5 in c:\\users\\sulai\\documents\\gh-projects\\transformers\\named_entity_recognition\\env\\lib\\site-packages (from aiohttp->datasets) (6.0.5)\n",
      "Requirement already satisfied: yarl<2.0,>=1.0 in c:\\users\\sulai\\documents\\gh-projects\\transformers\\named_entity_recognition\\env\\lib\\site-packages (from aiohttp->datasets) (1.9.4)\n",
      "Requirement already satisfied: aiosignal>=1.1.2 in c:\\users\\sulai\\documents\\gh-projects\\transformers\\named_entity_recognition\\env\\lib\\site-packages (from aiohttp->datasets) (1.3.1)\n",
      "Requirement already satisfied: async-timeout<5.0,>=4.0 in c:\\users\\sulai\\documents\\gh-projects\\transformers\\named_entity_recognition\\env\\lib\\site-packages (from aiohttp->datasets) (4.0.3)\n",
      "Requirement already satisfied: attrs>=17.3.0 in c:\\users\\sulai\\documents\\gh-projects\\transformers\\named_entity_recognition\\env\\lib\\site-packages (from aiohttp->datasets) (23.2.0)\n",
      "Requirement already satisfied: typing-extensions>=3.7.4.3 in c:\\users\\sulai\\documents\\gh-projects\\transformers\\named_entity_recognition\\env\\lib\\site-packages (from huggingface-hub>=0.21.2->datasets) (4.12.2)\n",
      "Requirement already satisfied: urllib3<3,>=1.21.1 in c:\\users\\sulai\\documents\\gh-projects\\transformers\\named_entity_recognition\\env\\lib\\site-packages (from requests>=2.32.2->datasets) (2.2.2)\n",
      "Requirement already satisfied: idna<4,>=2.5 in c:\\users\\sulai\\documents\\gh-projects\\transformers\\named_entity_recognition\\env\\lib\\site-packages (from requests>=2.32.2->datasets) (3.7)\n",
      "Requirement already satisfied: certifi>=2017.4.17 in c:\\users\\sulai\\documents\\gh-projects\\transformers\\named_entity_recognition\\env\\lib\\site-packages (from requests>=2.32.2->datasets) (2024.6.2)\n",
      "Requirement already satisfied: charset-normalizer<4,>=2 in c:\\users\\sulai\\documents\\gh-projects\\transformers\\named_entity_recognition\\env\\lib\\site-packages (from requests>=2.32.2->datasets) (3.3.2)\n",
      "Requirement already satisfied: colorama in c:\\users\\sulai\\documents\\gh-projects\\transformers\\named_entity_recognition\\env\\lib\\site-packages (from tqdm>=4.66.3->datasets) (0.4.6)\n",
      "Requirement already satisfied: python-dateutil>=2.8.2 in c:\\users\\sulai\\documents\\gh-projects\\transformers\\named_entity_recognition\\env\\lib\\site-packages (from pandas->datasets) (2.9.0.post0)\n",
      "Requirement already satisfied: tzdata>=2022.7 in c:\\users\\sulai\\documents\\gh-projects\\transformers\\named_entity_recognition\\env\\lib\\site-packages (from pandas->datasets) (2024.1)\n",
      "Requirement already satisfied: pytz>=2020.1 in c:\\users\\sulai\\documents\\gh-projects\\transformers\\named_entity_recognition\\env\\lib\\site-packages (from pandas->datasets) (2024.1)\n",
      "Requirement already satisfied: six>=1.5 in c:\\users\\sulai\\documents\\gh-projects\\transformers\\named_entity_recognition\\env\\lib\\site-packages (from python-dateutil>=2.8.2->pandas->datasets) (1.16.0)\n"
     ]
    },
    {
     "name": "stderr",
     "output_type": "stream",
     "text": [
      "\n",
      "[notice] A new release of pip available: 22.3.1 -> 24.0\n",
      "[notice] To update, run: python.exe -m pip install --upgrade pip\n"
     ]
    }
   ],
   "source": [
    "!pip install datasets"
   ]
  },
  {
   "cell_type": "code",
   "execution_count": 3,
   "id": "2cc1b587-35eb-4476-bbce-65b4098d0db7",
   "metadata": {},
   "outputs": [
    {
     "ename": "ModuleNotFoundError",
     "evalue": "No module named 'datasets'",
     "output_type": "error",
     "traceback": [
      "\u001b[1;31m---------------------------------------------------------------------------\u001b[0m",
      "\u001b[1;31mModuleNotFoundError\u001b[0m                       Traceback (most recent call last)",
      "Cell \u001b[1;32mIn[3], line 1\u001b[0m\n\u001b[1;32m----> 1\u001b[0m \u001b[38;5;28;01mfrom\u001b[39;00m \u001b[38;5;21;01mdatasets\u001b[39;00m \u001b[38;5;28;01mimport\u001b[39;00m get_dataset_config_names\n\u001b[0;32m      2\u001b[0m xtreme_subsets \u001b[38;5;241m=\u001b[39m get_dataset_config_names(\u001b[38;5;124m\"\u001b[39m\u001b[38;5;124mxtreme\u001b[39m\u001b[38;5;124m\"\u001b[39m)\n\u001b[0;32m      3\u001b[0m \u001b[38;5;28mprint\u001b[39m(\u001b[38;5;124mf\u001b[39m\u001b[38;5;124m\"\u001b[39m\u001b[38;5;124mXTREME has \u001b[39m\u001b[38;5;132;01m{\u001b[39;00m\u001b[38;5;28mlen\u001b[39m(xtreme_subsets)\u001b[38;5;132;01m}\u001b[39;00m\u001b[38;5;124m configurations\u001b[39m\u001b[38;5;124m\"\u001b[39m)\n",
      "\u001b[1;31mModuleNotFoundError\u001b[0m: No module named 'datasets'"
     ]
    }
   ],
   "source": [
    "from datasets import get_dataset_config_names\n",
    "xtreme_subsets = get_dataset_config_names(\"xtreme\")\n",
    "print(f\"XTREME has {len(xtreme_subsets)} configurations\")"
   ]
  },
  {
   "cell_type": "code",
   "execution_count": null,
   "id": "7bd69882-25e1-4897-91a6-a5898abfd64a",
   "metadata": {},
   "outputs": [],
   "source": []
  }
 ],
 "metadata": {
  "kernelspec": {
   "display_name": "Python 3 (ipykernel)",
   "language": "python",
   "name": "python3"
  },
  "language_info": {
   "codemirror_mode": {
    "name": "ipython",
    "version": 3
   },
   "file_extension": ".py",
   "mimetype": "text/x-python",
   "name": "python",
   "nbconvert_exporter": "python",
   "pygments_lexer": "ipython3",
   "version": "3.10.9"
  }
 },
 "nbformat": 4,
 "nbformat_minor": 5
}
